{
 "cells": [
  {
   "cell_type": "markdown",
   "metadata": {},
   "source": [
    "## Imports"
   ]
  },
  {
   "cell_type": "code",
   "execution_count": 34,
   "metadata": {},
   "outputs": [],
   "source": [
    "import xarray as xr\n",
    "import numpy as np\n",
    "import matplotlib.pyplot as plt\n",
    "import matplotlib.cm as cm\n",
    "from matplotlib.colors import Normalize\n",
    "import datetime\n",
    "from pathlib import Path"
   ]
  },
  {
   "cell_type": "markdown",
   "metadata": {},
   "source": [
    "## Setup"
   ]
  },
  {
   "cell_type": "code",
   "execution_count": 35,
   "metadata": {},
   "outputs": [],
   "source": [
    "nc_path = \"/N/slate/jmelms/projects/FCN_dynamical_testing/data/output/full_output.nc\"\n",
    "lat_path = \"/N/u/jmelms/BigRed200/projects/dynamical-tests-FCN/metadata/latitude.npy\"\n",
    "lon_path = \"/N/u/jmelms/BigRed200/projects/dynamical-tests-FCN/metadata/longitude.npy\"\n",
    "lsm_path = \"/N/u/jmelms/BigRed200/projects/dynamical-tests-FCN/metadata/land_sea_edges_mask.npy\"\n",
    "img_out_path = Path(\"imgs\")"
   ]
  },
  {
   "cell_type": "markdown",
   "metadata": {},
   "source": [
    "## Loading Data"
   ]
  },
  {
   "cell_type": "code",
   "execution_count": 33,
   "metadata": {},
   "outputs": [
    {
     "name": "stdout",
     "output_type": "stream",
     "text": [
      "<xarray.DataArray '__xarray_dataarray_variable__' (time: 53, channel: 73,\n",
      "                                                   lat: 721, lon: 1440)>\n",
      "[4016950560 values with dtype=float32]\n",
      "Coordinates:\n",
      "  * lat      (lat) float64 90.0 89.75 89.5 89.25 ... -89.25 -89.5 -89.75 -90.0\n",
      "  * lon      (lon) float64 0.0 0.25 0.5 0.75 1.0 ... 359.0 359.2 359.5 359.8\n",
      "  * channel  (channel) <U5 'u10m' 'v10m' 'u100m' ... 'r850' 'r925' 'r1000'\n",
      "  * time     (time) float64 0.0 6.0 12.0 18.0 24.0 ... 294.0 300.0 306.0 312.0\n"
     ]
    }
   ],
   "source": [
    "# load lat, lon, and land-sea mask\n",
    "lat = np.load(lat_path)\n",
    "lon = np.load(lon_path)\n",
    "lsm = np.load(lsm_path)\n",
    "nlat = lat.size\n",
    "nlon = lon.size\n",
    "dt = 6 # time step in hours\n",
    "\n",
    "# load netcdf data\n",
    "ds = xr.open_dataset(nc_path)\n",
    "\n",
    "# get the data array\n",
    "da = ds[\"__xarray_dataarray_variable__\"]\n",
    "\n",
    "# remove the \"history\" dimension because it's not used in these runs\n",
    "da = da.squeeze(drop=True)\n",
    "\n",
    "# check to make sure that the lat/lon dimensions are the same as the input data\n",
    "assert da.lat.size == nlat, \"Latitude dimensions do not match\"\n",
    "assert da.lon.size == nlon, \"Longitude dimensions do not match\"\n",
    "\n",
    "# change time dimension to datetime.datetime if using real times\n",
    "# ds[\"time\"] = [datetime.datetime.fromtimestamp(t/10e8, tz=datetime.timezone.utc) for t in ds.time.values]\n",
    "\n",
    "# change time dimension to hours from initialization if using relative times for idealized sim\n",
    "da[\"time\"] = [t/10e8/3600 for t in da.time.values]\n",
    "\n",
    "# unstandardize data\n",
    "da \n",
    "\n",
    "print(da)"
   ]
  },
  {
   "cell_type": "markdown",
   "metadata": {},
   "source": [
    "## Check a few variables"
   ]
  },
  {
   "cell_type": "code",
   "execution_count": 5,
   "metadata": {},
   "outputs": [
    {
     "ename": "SyntaxError",
     "evalue": "invalid syntax (3212390777.py, line 10)",
     "output_type": "error",
     "traceback": [
      "\u001b[0;36m  Cell \u001b[0;32mIn[5], line 10\u001b[0;36m\u001b[0m\n\u001b[0;31m    ax1.imshow(, cmap='viridis')\u001b[0m\n\u001b[0m               ^\u001b[0m\n\u001b[0;31mSyntaxError\u001b[0m\u001b[0;31m:\u001b[0m invalid syntax\n"
     ]
    }
   ],
   "source": [
    "def context():\n",
    "    vis_name = \"mslp_time_series\"\n",
    "    output_dir = img_out_path / vis_name\n",
    "    output_dir.mkdir(exist_ok=True)\n",
    "\n",
    "    channel = \"mslp\"\n",
    "    units = \"Pa\"\n",
    "    xticks = np.arange(0, nlon, 200)\n",
    "    yticks = np.arange(0, nlat, 200)\n",
    "    xticklabs = lon[xticks]\n",
    "    yticklabs = lat[yticks]\n",
    "    \n",
    "    \n",
    "    fig, (ax1, ax2) = plt.subplots(ncols=2, figsize=(10, 5))\n",
    "    ax1.imshow(, cmap='viridis')\n",
    "    norm = Normalize(vmin=tstep.min(), vmax=tstep.max())\n",
    "    cmap = cm.viridis\n",
    "    scalar_mappable = cm.ScalarMappable(norm=norm, cmap=cmap)\n",
    "    fig.colorbar(scalar_mappable, label=f\"{channel} ({units})\", cax=ax2, fraction=0.05, pad=0.07, )\n",
    "    fig.suptitle(f'Heatmap of {channel} ({units})')\n",
    "    ax1.set_xlabel('Longitude')\n",
    "    ax1.set_ylabel('Latitude')\n",
    "    \n",
    "    ax1.imshow(land_mask, cmap='binary', alpha=1.0*(land_mask>0)) # change alpha value to make it a more gentle discoloration\n",
    "\n",
    "    ax1.set_xticks(xticks, xticklabs)\n",
    "    ax1.set_yticks(yticks, yticklabs)\n",
    "    fig.tight_layout()\n",
    "    fig.savefig(\"/N/u/jmelms/BigRed200/FCN_Otis/data_analysis/basic_heatmap.png\", dpi=400)\n",
    "    plt.show()\n",
    "\n",
    "context()"
   ]
  }
 ],
 "metadata": {
  "kernelspec": {
   "display_name": "Python 3 (ipykernel)",
   "language": "python",
   "name": "python3"
  },
  "language_info": {
   "codemirror_mode": {
    "name": "ipython",
    "version": 3
   },
   "file_extension": ".py",
   "mimetype": "text/x-python",
   "name": "python",
   "nbconvert_exporter": "python",
   "pygments_lexer": "ipython3",
   "version": "3.10.13"
  }
 },
 "nbformat": 4,
 "nbformat_minor": 2
}
