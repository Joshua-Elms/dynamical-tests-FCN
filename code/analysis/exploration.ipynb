{
 "cells": [
  {
   "cell_type": "markdown",
   "metadata": {},
   "source": [
    "## Imports"
   ]
  },
  {
   "cell_type": "code",
   "execution_count": 86,
   "metadata": {},
   "outputs": [],
   "source": [
    "import xarray as xr\n",
    "import numpy as np\n",
    "import imageio\n",
    "import matplotlib.pyplot as plt\n",
    "import matplotlib.cm as cm\n",
    "from matplotlib.colors import Normalize\n",
    "import datetime\n",
    "from pathlib import Path"
   ]
  },
  {
   "cell_type": "markdown",
   "metadata": {},
   "source": [
    "## Setup"
   ]
  },
  {
   "cell_type": "code",
   "execution_count": 85,
   "metadata": {},
   "outputs": [],
   "source": [
    "nc_path = \"/N/slate/jmelms/projects/FCN_dynamical_testing/data/output/full_output_corrected.nc\"\n",
    "lat_path = \"/N/u/jmelms/BigRed200/projects/dynamical-tests-FCN/metadata/latitude.npy\"\n",
    "lon_path = \"/N/u/jmelms/BigRed200/projects/dynamical-tests-FCN/metadata/longitude.npy\"\n",
    "lsm_path = \"/N/u/jmelms/BigRed200/projects/dynamical-tests-FCN/metadata/land_sea_edges_mask.npy\"\n",
    "mean_path = \"/N/u/jmelms/BigRed200/projects/dynamical-tests-FCN/metadata/global_means.npy\"\n",
    "std_path = \"/N/u/jmelms/BigRed200/projects/dynamical-tests-FCN/metadata/global_stds.npy\"\n",
    "img_out_path = Path(\"imgs\").resolve()\n",
    "img_out_path.mkdir(exist_ok=True)"
   ]
  },
  {
   "cell_type": "markdown",
   "metadata": {},
   "source": [
    "## Loading Data"
   ]
  },
  {
   "cell_type": "code",
   "execution_count": 81,
   "metadata": {},
   "outputs": [
    {
     "name": "stdout",
     "output_type": "stream",
     "text": [
      "<xarray.DataArray '__xarray_dataarray_variable__' (time: 53, channel: 73,\n",
      "                                                   lat: 721, lon: 1440)>\n",
      "array([[[[ 7.45058060e-09,  7.45058060e-09,  7.45058060e-09, ...,\n",
      "           7.45058060e-09,  7.45058060e-09,  7.45058060e-09],\n",
      "         [ 7.45058060e-09,  7.45058060e-09,  7.45058060e-09, ...,\n",
      "           7.45058060e-09,  7.45058060e-09,  7.45058060e-09],\n",
      "         [ 7.45058060e-09,  7.45058060e-09,  7.45058060e-09, ...,\n",
      "           7.45058060e-09,  7.45058060e-09,  7.45058060e-09],\n",
      "         ...,\n",
      "         [ 7.45058060e-09,  7.45058060e-09,  7.45058060e-09, ...,\n",
      "           7.45058060e-09,  7.45058060e-09,  7.45058060e-09],\n",
      "         [ 7.45058060e-09,  7.45058060e-09,  7.45058060e-09, ...,\n",
      "           7.45058060e-09,  7.45058060e-09,  7.45058060e-09],\n",
      "         [ 7.45058060e-09,  7.45058060e-09,  7.45058060e-09, ...,\n",
      "           7.45058060e-09,  7.45058060e-09,  7.45058060e-09]],\n",
      "\n",
      "        [[-4.47034836e-08, -4.47034836e-08, -4.47034836e-08, ...,\n",
      "          -4.47034836e-08, -4.47034836e-08, -4.47034836e-08],\n",
      "         [-4.47034836e-08, -4.47034836e-08, -4.47034836e-08, ...,\n",
      "          -4.47034836e-08, -4.47034836e-08, -4.47034836e-08],\n",
      "         [-4.47034836e-08, -4.47034836e-08, -4.47034836e-08, ...,\n",
      "          -4.47034836e-08, -4.47034836e-08, -4.47034836e-08],\n",
      "...\n",
      "           2.89852246e+03,  2.89847729e+03,  2.89843042e+03],\n",
      "         [ 2.86018506e+03,  2.86015747e+03,  2.86012793e+03, ...,\n",
      "           2.86025903e+03,  2.86023608e+03,  2.86021167e+03],\n",
      "         [ 2.81292725e+03,  2.81292725e+03,  2.81292725e+03, ...,\n",
      "           2.81292725e+03,  2.81292725e+03,  2.81292725e+03]],\n",
      "\n",
      "        [[ 8.53674988e+02,  8.53674988e+02,  8.53674988e+02, ...,\n",
      "           8.53674988e+02,  8.53674988e+02,  8.53674988e+02],\n",
      "         [ 1.42445569e+03,  1.42448767e+03,  1.42451086e+03, ...,\n",
      "           1.42427710e+03,  1.42434741e+03,  1.42440393e+03],\n",
      "         [ 2.43775708e+03,  2.43869873e+03,  2.43962109e+03, ...,\n",
      "           2.43479248e+03,  2.43580176e+03,  2.43678711e+03],\n",
      "         ...,\n",
      "         [ 2.64841968e+03,  2.64870557e+03,  2.64898950e+03, ...,\n",
      "           2.64753638e+03,  2.64783374e+03,  2.64812964e+03],\n",
      "         [ 2.60960718e+03,  2.60978882e+03,  2.60996851e+03, ...,\n",
      "           2.60905200e+03,  2.60923853e+03,  2.60942432e+03],\n",
      "         [ 2.55412109e+03,  2.55412109e+03,  2.55412109e+03, ...,\n",
      "           2.55412109e+03,  2.55412109e+03,  2.55412109e+03]]]],\n",
      "      dtype=float32)\n",
      "Coordinates:\n",
      "  * lat      (lat) float64 90.0 89.75 89.5 89.25 ... -89.25 -89.5 -89.75 -90.0\n",
      "  * lon      (lon) float64 0.0 0.25 0.5 0.75 1.0 ... 359.0 359.2 359.5 359.8\n",
      "  * channel  (channel) <U5 'u10m' 'v10m' 'u100m' ... 'r850' 'r925' 'r1000'\n",
      "  * time     (time) float64 0.0 6.0 12.0 18.0 24.0 ... 294.0 300.0 306.0 312.0\n"
     ]
    }
   ],
   "source": [
    "# load lat, lon, and land-sea mask\n",
    "lat = np.load(lat_path)\n",
    "lon = np.load(lon_path)\n",
    "lsm = np.load(lsm_path)\n",
    "mean = np.load(mean_path)\n",
    "std = np.load(std_path)\n",
    "nlat = lat.size\n",
    "nlon = lon.size\n",
    "dt = 6 # time step in hours\n",
    "\n",
    "# load netcdf data\n",
    "ds = xr.open_dataset(nc_path)\n",
    "\n",
    "# get the data array\n",
    "da = ds[\"__xarray_dataarray_variable__\"]\n",
    "\n",
    "# remove the \"history\" dimension because it's not used in these runs\n",
    "da = da.squeeze(drop=True)\n",
    "\n",
    "# check to make sure that the lat/lon dimensions are the same as the input data\n",
    "assert da.lat.size == nlat, \"Latitude dimensions do not match\"\n",
    "assert da.lon.size == nlon, \"Longitude dimensions do not match\"\n",
    "\n",
    "# change time dimension to datetime.datetime if using real times\n",
    "# ds[\"time\"] = [datetime.datetime.fromtimestamp(t/10e8, tz=datetime.timezone.utc) for t in ds.time.values]\n",
    "\n",
    "# change time dimension to hours from initialization if using relative times for idealized sim\n",
    "da[\"time\"] = [t/10e8/3600 for t in da.time.values]\n",
    "\n",
    "# unstandardize data\n",
    "da = da * std + mean\n",
    "\n",
    "print(da)"
   ]
  },
  {
   "cell_type": "markdown",
   "metadata": {},
   "source": [
    "## Check a few variables"
   ]
  },
  {
   "cell_type": "code",
   "execution_count": 84,
   "metadata": {},
   "outputs": [
    {
     "name": "stdout",
     "output_type": "stream",
     "text": [
      "<xarray.DataArray '__xarray_dataarray_variable__' (lat: 721, lon: 1440)>\n",
      "array([[96591696., 96591696., 96591696., ..., 96591696., 96591696.,\n",
      "        96591696.],\n",
      "       [96624480., 96624640., 96624776., ..., 96624048., 96624192.,\n",
      "        96624344.],\n",
      "       [96683904., 96684224., 96684560., ..., 96682912., 96683240.,\n",
      "        96683584.],\n",
      "       ...,\n",
      "       [98706080., 98706064., 98706056., ..., 98706112., 98706104.,\n",
      "        98706104.],\n",
      "       [98588984., 98588960., 98588936., ..., 98589048., 98589032.,\n",
      "        98589008.],\n",
      "       [98483912., 98483912., 98483912., ..., 98483912., 98483912.,\n",
      "        98483912.]], dtype=float32)\n",
      "Coordinates:\n",
      "  * lat      (lat) float64 90.0 89.75 89.5 89.25 ... -89.25 -89.5 -89.75 -90.0\n",
      "  * lon      (lon) float64 0.0 0.25 0.5 0.75 1.0 ... 359.0 359.2 359.5 359.8\n",
      "    channel  <U5 'msl'\n",
      "    time     float64 6.0\n"
     ]
    }
   ],
   "source": [
    "def context():\n",
    "    vis_name = \"mslp_time_series\"\n",
    "    output_dir = img_out_path / vis_name\n",
    "    output_dir.mkdir(exist_ok=True, parents=True)\n",
    "\n",
    "    channel = \"mslp\"\n",
    "    units = \"hPa\"\n",
    "    xticks = np.arange(0, nlon, 200)\n",
    "    yticks = np.arange(0, nlat, 200)\n",
    "    xticklabs = lon[xticks]\n",
    "    yticklabs = lat[yticks]\n",
    "    contour_levels = np.arange(900, 1100, 4)\n",
    "\n",
    "    # hPa = 100 Pa\n",
    "    data = da.sel(channel=\"msl\") / 100\n",
    "\n",
    "    # vmin = data.min()\n",
    "    # vmax = data.max()\n",
    "\n",
    "    vmin = 800\n",
    "    vmax = 1200\n",
    "\n",
    "    tstep = data.isel(time=1)\n",
    "\n",
    "    print(tstep)\n",
    "    \n",
    "    # # plot all timesteps\n",
    "    # for i, t in enumerate(da.time):\n",
    "    #     if i % 10:\n",
    "    #         continue\n",
    "    #     t_str = str(t.values)\n",
    "    #     tstep = data.sel(time=t)\n",
    "    #     fig, (ax1, ax2) = plt.subplots(ncols=2, figsize=(10, 5), gridspec_kw={'width_ratios': [1, 0.05]})\n",
    "    #     ax1.imshow(tstep, cmap='viridis')\n",
    "    #     CS = ax1.contour(tstep, levels=3, colors=\"black\")\n",
    "    #     ax1.clabel(CS, CS.levels, inline=True, fmt=lambda x: round(x), fontsize=10)\n",
    "    #     norm = Normalize(vmin=vmin, vmax=vmax)\n",
    "    #     cmap = cm.viridis\n",
    "    #     scalar_mappable = cm.ScalarMappable(norm=norm, cmap=cmap)\n",
    "    #     fig.colorbar(scalar_mappable, label=f\"{channel} ({units})\", cax=ax2, fraction=0.05, pad=0.07, )\n",
    "    #     fig.suptitle(f'{channel} ({units}) at {t_str}h')\n",
    "    #     ax1.set_xlabel('Longitude')\n",
    "    #     ax1.set_ylabel('Latitude')\n",
    "    #     ax1.set_xticks(xticks, xticklabs)\n",
    "    #     ax1.set_yticks(yticks, yticklabs)\n",
    "\n",
    "    #     fig.savefig(output_dir / f\"{vis_name}_{i:04d}.png\")\n",
    "    #     print(f\"Saved {output_dir / f'{vis_name}_{i:04d}.png'}\")\n",
    "    #     plt.close()\n",
    "\n",
    "context()"
   ]
  }
 ],
 "metadata": {
  "kernelspec": {
   "display_name": "Python 3 (ipykernel)",
   "language": "python",
   "name": "python3"
  },
  "language_info": {
   "codemirror_mode": {
    "name": "ipython",
    "version": 3
   },
   "file_extension": ".py",
   "mimetype": "text/x-python",
   "name": "python",
   "nbconvert_exporter": "python",
   "pygments_lexer": "ipython3",
   "version": "3.10.13"
  }
 },
 "nbformat": 4,
 "nbformat_minor": 2
}
