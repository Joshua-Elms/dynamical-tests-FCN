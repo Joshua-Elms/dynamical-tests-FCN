{
 "cells": [
  {
   "cell_type": "markdown",
   "metadata": {},
   "source": [
    "## Imports"
   ]
  },
  {
   "cell_type": "code",
   "execution_count": 1,
   "metadata": {},
   "outputs": [],
   "source": [
    "import xarray as xr\n",
    "import numpy as np\n",
    "import matplotlib.pyplot as plt"
   ]
  },
  {
   "cell_type": "markdown",
   "metadata": {},
   "source": [
    "## Setup"
   ]
  },
  {
   "cell_type": "code",
   "execution_count": 2,
   "metadata": {},
   "outputs": [],
   "source": [
    "nc_path = \"/N/slate/jmelms/projects/FCN_dynamical_testing/data/output/test_output_0.nc\"\n",
    "lat_path = \"/N/u/jmelms/BigRed200/projects/dynamical-tests-FCN/metadata/latitude.npy\"\n",
    "lon_path = \"/N/u/jmelms/BigRed200/projects/dynamical-tests-FCN/metadata/longitude.npy\"\n",
    "lsm_path = \"/N/u/jmelms/BigRed200/projects/dynamical-tests-FCN/metadata/land_sea_edges_mask.npy\""
   ]
  },
  {
   "cell_type": "markdown",
   "metadata": {},
   "source": [
    "## Loading Data"
   ]
  },
  {
   "cell_type": "code",
   "execution_count": 3,
   "metadata": {},
   "outputs": [
    {
     "name": "stderr",
     "output_type": "stream",
     "text": [
      "/N/project/obrienta_startup/wxmod_ai/conda/earth2mip/lib/python3.10/site-packages/gribapi/__init__.py:23: UserWarning: ecCodes 2.31.0 or higher is recommended. You are running version 2.30.0\n",
      "  warnings.warn(\n"
     ]
    },
    {
     "name": "stdout",
     "output_type": "stream",
     "text": [
      "<xarray.Dataset>\n",
      "Dimensions:                        (lat: 721, lon: 1440, channel: 73, time: 2)\n",
      "Coordinates:\n",
      "  * lat                            (lat) float64 90.0 89.75 ... -89.75 -90.0\n",
      "  * lon                            (lon) float64 0.0 0.25 0.5 ... 359.5 359.8\n",
      "  * channel                        (channel) <U5 'u10m' 'v10m' ... 'r1000'\n",
      "  * time                           (time) int64 0 21600000000000\n",
      "Data variables:\n",
      "    __xarray_dataarray_variable__  (time, channel, lat, lon) float32 ...\n"
     ]
    }
   ],
   "source": [
    "# load lat, lon, and land-sea mask\n",
    "lat = np.load(lat_path)\n",
    "lon = np.load(lon_path)\n",
    "lsm = np.load(lsm_path)\n",
    "nlat = lat.size\n",
    "nlon = lon.size\n",
    "\n",
    "# load netcdf data\n",
    "ds = xr.open_dataset(nc_path)\n",
    "\n",
    "# remove the \"history\" dimension because it's not used in these runs\n",
    "ds = ds.squeeze(drop=True)\n",
    "\n",
    "# check to make sure that the lat/lon dimensions are the same as the input data\n",
    "assert ds.lat.size == nlat, \"Latitude dimensions do not match\"\n",
    "assert ds.lon.size == nlon, \"Longitude dimensions do not match\"\n",
    "\n",
    "print(ds)"
   ]
  },
  {
   "cell_type": "markdown",
   "metadata": {},
   "source": [
    "## Check a few variables"
   ]
  },
  {
   "cell_type": "code",
   "execution_count": 4,
   "metadata": {},
   "outputs": [
    {
     "ename": "NameError",
     "evalue": "name 'pred' is not defined",
     "output_type": "error",
     "traceback": [
      "\u001b[0;31m---------------------------------------------------------------------------\u001b[0m",
      "\u001b[0;31mNameError\u001b[0m                                 Traceback (most recent call last)",
      "\u001b[1;32m/N/u/jmelms/BigRed200/projects/dynamical-tests-FCN/code/analysis/exploration.ipynb Cell 8\u001b[0m line \u001b[0;36m3\n\u001b[1;32m     <a href='vscode-notebook-cell://ssh-remote%2Bquartz.uits.iu.edu/N/u/jmelms/BigRed200/projects/dynamical-tests-FCN/code/analysis/exploration.ipynb#X10sdnNjb2RlLXJlbW90ZQ%3D%3D?line=26'>27</a>\u001b[0m     fig\u001b[39m.\u001b[39msavefig(\u001b[39m\"\u001b[39m\u001b[39m/N/u/jmelms/BigRed200/FCN_Otis/data_analysis/basic_heatmap.png\u001b[39m\u001b[39m\"\u001b[39m, dpi\u001b[39m=\u001b[39m\u001b[39m400\u001b[39m)\n\u001b[1;32m     <a href='vscode-notebook-cell://ssh-remote%2Bquartz.uits.iu.edu/N/u/jmelms/BigRed200/projects/dynamical-tests-FCN/code/analysis/exploration.ipynb#X10sdnNjb2RlLXJlbW90ZQ%3D%3D?line=27'>28</a>\u001b[0m     plt\u001b[39m.\u001b[39mshow()\n\u001b[0;32m---> <a href='vscode-notebook-cell://ssh-remote%2Bquartz.uits.iu.edu/N/u/jmelms/BigRed200/projects/dynamical-tests-FCN/code/analysis/exploration.ipynb#X10sdnNjb2RlLXJlbW90ZQ%3D%3D?line=29'>30</a>\u001b[0m context()\n",
      "\u001b[1;32m/N/u/jmelms/BigRed200/projects/dynamical-tests-FCN/code/analysis/exploration.ipynb Cell 8\u001b[0m line \u001b[0;36m6\n\u001b[1;32m      <a href='vscode-notebook-cell://ssh-remote%2Bquartz.uits.iu.edu/N/u/jmelms/BigRed200/projects/dynamical-tests-FCN/code/analysis/exploration.ipynb#X10sdnNjb2RlLXJlbW90ZQ%3D%3D?line=3'>4</a>\u001b[0m channel \u001b[39m=\u001b[39m \u001b[39m\"\u001b[39m\u001b[39mt2m\u001b[39m\u001b[39m\"\u001b[39m\n\u001b[1;32m      <a href='vscode-notebook-cell://ssh-remote%2Bquartz.uits.iu.edu/N/u/jmelms/BigRed200/projects/dynamical-tests-FCN/code/analysis/exploration.ipynb#X10sdnNjb2RlLXJlbW90ZQ%3D%3D?line=4'>5</a>\u001b[0m units \u001b[39m=\u001b[39m \u001b[39m\"\u001b[39m\u001b[39mdegK\u001b[39m\u001b[39m\"\u001b[39m\n\u001b[0;32m----> <a href='vscode-notebook-cell://ssh-remote%2Bquartz.uits.iu.edu/N/u/jmelms/BigRed200/projects/dynamical-tests-FCN/code/analysis/exploration.ipynb#X10sdnNjb2RlLXJlbW90ZQ%3D%3D?line=5'>6</a>\u001b[0m tstep \u001b[39m=\u001b[39m pred\u001b[39m.\u001b[39msel(ic\u001b[39m=\u001b[39mic, t\u001b[39m=\u001b[39mt, channel\u001b[39m=\u001b[39mchannel)\n\u001b[1;32m      <a href='vscode-notebook-cell://ssh-remote%2Bquartz.uits.iu.edu/N/u/jmelms/BigRed200/projects/dynamical-tests-FCN/code/analysis/exploration.ipynb#X10sdnNjb2RlLXJlbW90ZQ%3D%3D?line=6'>7</a>\u001b[0m xticks \u001b[39m=\u001b[39m np\u001b[39m.\u001b[39marange(\u001b[39m0\u001b[39m, tstep\u001b[39m.\u001b[39mlon\u001b[39m.\u001b[39mvalues\u001b[39m.\u001b[39msize, \u001b[39m200\u001b[39m)\n\u001b[1;32m      <a href='vscode-notebook-cell://ssh-remote%2Bquartz.uits.iu.edu/N/u/jmelms/BigRed200/projects/dynamical-tests-FCN/code/analysis/exploration.ipynb#X10sdnNjb2RlLXJlbW90ZQ%3D%3D?line=7'>8</a>\u001b[0m yticks \u001b[39m=\u001b[39m np\u001b[39m.\u001b[39marange(\u001b[39m0\u001b[39m, tstep\u001b[39m.\u001b[39mlat\u001b[39m.\u001b[39mvalues\u001b[39m.\u001b[39msize, \u001b[39m200\u001b[39m)\n",
      "\u001b[0;31mNameError\u001b[0m: name 'pred' is not defined"
     ]
    }
   ],
   "source": [
    "def context():\n",
    "    ic = 0\n",
    "    t = 0\n",
    "    channel = \"t2m\"\n",
    "    units = \"degK\"\n",
    "    tstep = pred.sel(ic=ic, t=t, channel=channel)\n",
    "    xticks = np.arange(0, tstep.lon.values.size, 200)\n",
    "    yticks = np.arange(0, tstep.lat.values.size, 200)\n",
    "    xticklabs = tstep.lon.values[xticks]\n",
    "    yticklabs = tstep.lat.values[yticks]\n",
    "    \n",
    "    fig, (ax1, ax2) = plt.subplots(ncols=2, figsize=(8, 3.9), gridspec_kw={'width_ratios': [30, 1]})\n",
    "    ax1.imshow(tstep, cmap='viridis')\n",
    "    norm = Normalize(vmin=tstep.min(), vmax=tstep.max())\n",
    "    cmap = cm.viridis\n",
    "    scalar_mappable = cm.ScalarMappable(norm=norm, cmap=cmap)\n",
    "    fig.colorbar(scalar_mappable, label=f\"{channel} ({units})\", cax=ax2, fraction=0.05, pad=0.07, )\n",
    "    fig.suptitle(f'Heatmap of {channel} ({units})')\n",
    "    ax1.set_xlabel('Longitude')\n",
    "    ax1.set_ylabel('Latitude')\n",
    "    \n",
    "    ax1.imshow(land_mask, cmap='binary', alpha=1.0*(land_mask>0)) # change alpha value to make it a more gentle discoloration\n",
    "\n",
    "    ax1.set_xticks(xticks, xticklabs)\n",
    "    ax1.set_yticks(yticks, yticklabs)\n",
    "    fig.tight_layout()\n",
    "    fig.savefig(\"/N/u/jmelms/BigRed200/FCN_Otis/data_analysis/basic_heatmap.png\", dpi=400)\n",
    "    plt.show()\n",
    "\n",
    "context()"
   ]
  }
 ],
 "metadata": {
  "kernelspec": {
   "display_name": "Python 3 (ipykernel)",
   "language": "python",
   "name": "python3"
  },
  "language_info": {
   "codemirror_mode": {
    "name": "ipython",
    "version": 3
   },
   "file_extension": ".py",
   "mimetype": "text/x-python",
   "name": "python",
   "nbconvert_exporter": "python",
   "pygments_lexer": "ipython3",
   "version": "3.10.13"
  }
 },
 "nbformat": 4,
 "nbformat_minor": 2
}
